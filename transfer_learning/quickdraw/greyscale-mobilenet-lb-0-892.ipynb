{
 "cells": [
  {
   "cell_type": "markdown",
   "metadata": {
    "_cell_guid": "79c7e3d0-c299-4dcb-8224-4455121ee9b0",
    "_uuid": "d629ff2d2480ee46fbb7e2d37f6b5fab8052498a",
    "collapsed": true
   },
   "source": [
    "# Keras MobileNet Benchmark\n",
    "\n",
    "In a previous benchmark we used a simple three layer ConvNet. This time we use a deeper MobileNet architecture on greyscale strokes. \n",
    "\n",
    "This kernel has three main components:\n",
    "\n",
    "* MobileNet\n",
    "* Fast and memory efficient Image Generator with temporal colored strokes\n",
    "* Full training & submission with Kaggle Kernel\n",
    "\n",
    "I did some paramer search but it should not be hard to improve the current score."
   ]
  },
  {
   "cell_type": "markdown",
   "metadata": {
    "_uuid": "f7f2a9516140a84124bf7bbf538ee4c30860b778"
   },
   "source": [
    "## Setup\n",
    "Import the necessary libraries and a few helper functions."
   ]
  },
  {
   "cell_type": "code",
   "execution_count": 1,
   "metadata": {
    "_kg_hide-input": true,
    "_uuid": "ce6d2aa7de1fa341144def7d3a5b1ffdea26bc91"
   },
   "outputs": [
    {
     "name": "stderr",
     "output_type": "stream",
     "text": [
      "/home/quocnle/anaconda3/envs/py36/lib/python3.6/site-packages/h5py/__init__.py:36: FutureWarning: Conversion of the second argument of issubdtype from `float` to `np.floating` is deprecated. In future, it will be treated as `np.float64 == np.dtype(float).type`.\n",
      "  from ._conv import register_converters as _register_converters\n"
     ]
    }
   ],
   "source": [
    "%matplotlib inline\n",
    "from IPython.core.interactiveshell import InteractiveShell\n",
    "InteractiveShell.ast_node_interactivity = \"all\"\n",
    "import os\n",
    "import ast\n",
    "import datetime as dt\n",
    "import matplotlib.pyplot as plt\n",
    "plt.rcParams['figure.figsize'] = [16, 10]\n",
    "plt.rcParams['font.size'] = 14\n",
    "import seaborn as sns\n",
    "import cv2\n",
    "import pandas as pd\n",
    "import numpy as np\n",
    "import tensorflow as tf\n",
    "from tensorflow import keras\n",
    "from tensorflow.keras.layers import Conv2D, MaxPooling2D\n",
    "from tensorflow.keras.layers import Dense, Dropout, Flatten, Activation\n",
    "from tensorflow.keras.metrics import categorical_accuracy, top_k_categorical_accuracy, categorical_crossentropy\n",
    "from tensorflow.keras.models import Sequential\n",
    "from tensorflow.keras.callbacks import EarlyStopping, ReduceLROnPlateau, ModelCheckpoint\n",
    "from tensorflow.keras.optimizers import Adam\n",
    "from tensorflow.keras.applications import MobileNet\n",
    "from tensorflow.keras.applications.mobilenet import preprocess_input\n",
    "start = dt.datetime.now()"
   ]
  },
  {
   "cell_type": "code",
   "execution_count": 2,
   "metadata": {
    "_kg_hide-input": true,
    "_uuid": "978b1e827e598c53df3ef09838a6d85591d83052"
   },
   "outputs": [],
   "source": [
    "DP_DIR = 'shuffle-csvs/'\n",
    "INPUT_DIR = 'quickdraw-doodle-recognition/'\n",
    "\n",
    "BASE_SIZE = 256\n",
    "NCSVS = 100\n",
    "NCATS = 340\n",
    "np.random.seed(seed=1987)\n",
    "tf.set_random_seed(seed=1987)\n",
    "\n",
    "def f2cat(filename: str) -> str:\n",
    "    return filename.split('.')[0]\n",
    "\n",
    "def list_all_categories():\n",
    "    files = os.listdir(os.path.join(INPUT_DIR, 'train_simplified'))\n",
    "    return sorted([f2cat(f) for f in files], key=str.lower)"
   ]
  },
  {
   "cell_type": "code",
   "execution_count": 3,
   "metadata": {
    "_kg_hide-input": true,
    "_uuid": "b2fcd1a08ae1ae0619be38a113a244eb6515b63b"
   },
   "outputs": [],
   "source": [
    "def apk(actual, predicted, k=3):\n",
    "    \"\"\"\n",
    "    Source: https://github.com/benhamner/Metrics/blob/master/Python/ml_metrics/average_precision.py\n",
    "    \"\"\"\n",
    "    if len(predicted) > k:\n",
    "        predicted = predicted[:k]\n",
    "    score = 0.0\n",
    "    num_hits = 0.0\n",
    "    for i, p in enumerate(predicted):\n",
    "        if p in actual and p not in predicted[:i]:\n",
    "            num_hits += 1.0\n",
    "            score += num_hits / (i + 1.0)\n",
    "    if not actual:\n",
    "        return 0.0\n",
    "    return score / min(len(actual), k)\n",
    "\n",
    "def mapk(actual, predicted, k=3):\n",
    "    \"\"\"\n",
    "    Source: https://github.com/benhamner/Metrics/blob/master/Python/ml_metrics/average_precision.py\n",
    "    \"\"\"\n",
    "    return np.mean([apk(a, p, k) for a, p in zip(actual, predicted)])\n",
    "\n",
    "def preds2catids(predictions):\n",
    "    return pd.DataFrame(np.argsort(-predictions, axis=1)[:, :3], columns=['a', 'b', 'c'])\n",
    "\n",
    "def top_3_accuracy(y_true, y_pred):\n",
    "    return top_k_categorical_accuracy(y_true, y_pred, k=3)"
   ]
  },
  {
   "cell_type": "markdown",
   "metadata": {
    "_uuid": "264156422a95e4b350886d558d516ae8bd2e25c0"
   },
   "source": [
    "## MobileNet\n",
    "\n",
    "MobileNets are based on a streamlined architecture that uses depthwise separable convolutions to build light weight deep neural networks.\n",
    "\n",
    "[MobileNets: Efficient Convolutional Neural Networks for Mobile Vision Applications](https://arxiv.org/pdf/1704.04861.pdf)"
   ]
  },
  {
   "cell_type": "code",
   "execution_count": 4,
   "metadata": {
    "_uuid": "54e5f0c637195b6624e2f3e6db5e7f8990e14eb7"
   },
   "outputs": [],
   "source": [
    "STEPS = 800\n",
    "EPOCHS = 16\n",
    "size = 64\n",
    "batchsize = 680"
   ]
  },
  {
   "cell_type": "code",
   "execution_count": 5,
   "metadata": {
    "_kg_hide-output": true,
    "_uuid": "0860ec35bee03f0c5cd21202dc7471c2d201cf5f",
    "scrolled": false
   },
   "outputs": [
    {
     "name": "stdout",
     "output_type": "stream",
     "text": [
      "_________________________________________________________________\n",
      "Layer (type)                 Output Shape              Param #   \n",
      "=================================================================\n",
      "input_1 (InputLayer)         (None, 64, 64, 1)         0         \n",
      "_________________________________________________________________\n",
      "conv1_pad (ZeroPadding2D)    (None, 65, 65, 1)         0         \n",
      "_________________________________________________________________\n",
      "conv1 (Conv2D)               (None, 32, 32, 32)        288       \n",
      "_________________________________________________________________\n",
      "conv1_bn (BatchNormalization (None, 32, 32, 32)        128       \n",
      "_________________________________________________________________\n",
      "conv1_relu (ReLU)            (None, 32, 32, 32)        0         \n",
      "_________________________________________________________________\n",
      "conv_dw_1 (DepthwiseConv2D)  (None, 32, 32, 32)        288       \n",
      "_________________________________________________________________\n",
      "conv_dw_1_bn (BatchNormaliza (None, 32, 32, 32)        128       \n",
      "_________________________________________________________________\n",
      "conv_dw_1_relu (ReLU)        (None, 32, 32, 32)        0         \n",
      "_________________________________________________________________\n",
      "conv_pw_1 (Conv2D)           (None, 32, 32, 64)        2048      \n",
      "_________________________________________________________________\n",
      "conv_pw_1_bn (BatchNormaliza (None, 32, 32, 64)        256       \n",
      "_________________________________________________________________\n",
      "conv_pw_1_relu (ReLU)        (None, 32, 32, 64)        0         \n",
      "_________________________________________________________________\n",
      "conv_pad_2 (ZeroPadding2D)   (None, 33, 33, 64)        0         \n",
      "_________________________________________________________________\n",
      "conv_dw_2 (DepthwiseConv2D)  (None, 16, 16, 64)        576       \n",
      "_________________________________________________________________\n",
      "conv_dw_2_bn (BatchNormaliza (None, 16, 16, 64)        256       \n",
      "_________________________________________________________________\n",
      "conv_dw_2_relu (ReLU)        (None, 16, 16, 64)        0         \n",
      "_________________________________________________________________\n",
      "conv_pw_2 (Conv2D)           (None, 16, 16, 128)       8192      \n",
      "_________________________________________________________________\n",
      "conv_pw_2_bn (BatchNormaliza (None, 16, 16, 128)       512       \n",
      "_________________________________________________________________\n",
      "conv_pw_2_relu (ReLU)        (None, 16, 16, 128)       0         \n",
      "_________________________________________________________________\n",
      "conv_dw_3 (DepthwiseConv2D)  (None, 16, 16, 128)       1152      \n",
      "_________________________________________________________________\n",
      "conv_dw_3_bn (BatchNormaliza (None, 16, 16, 128)       512       \n",
      "_________________________________________________________________\n",
      "conv_dw_3_relu (ReLU)        (None, 16, 16, 128)       0         \n",
      "_________________________________________________________________\n",
      "conv_pw_3 (Conv2D)           (None, 16, 16, 128)       16384     \n",
      "_________________________________________________________________\n",
      "conv_pw_3_bn (BatchNormaliza (None, 16, 16, 128)       512       \n",
      "_________________________________________________________________\n",
      "conv_pw_3_relu (ReLU)        (None, 16, 16, 128)       0         \n",
      "_________________________________________________________________\n",
      "conv_pad_4 (ZeroPadding2D)   (None, 17, 17, 128)       0         \n",
      "_________________________________________________________________\n",
      "conv_dw_4 (DepthwiseConv2D)  (None, 8, 8, 128)         1152      \n",
      "_________________________________________________________________\n",
      "conv_dw_4_bn (BatchNormaliza (None, 8, 8, 128)         512       \n",
      "_________________________________________________________________\n",
      "conv_dw_4_relu (ReLU)        (None, 8, 8, 128)         0         \n",
      "_________________________________________________________________\n",
      "conv_pw_4 (Conv2D)           (None, 8, 8, 256)         32768     \n",
      "_________________________________________________________________\n",
      "conv_pw_4_bn (BatchNormaliza (None, 8, 8, 256)         1024      \n",
      "_________________________________________________________________\n",
      "conv_pw_4_relu (ReLU)        (None, 8, 8, 256)         0         \n",
      "_________________________________________________________________\n",
      "conv_dw_5 (DepthwiseConv2D)  (None, 8, 8, 256)         2304      \n",
      "_________________________________________________________________\n",
      "conv_dw_5_bn (BatchNormaliza (None, 8, 8, 256)         1024      \n",
      "_________________________________________________________________\n",
      "conv_dw_5_relu (ReLU)        (None, 8, 8, 256)         0         \n",
      "_________________________________________________________________\n",
      "conv_pw_5 (Conv2D)           (None, 8, 8, 256)         65536     \n",
      "_________________________________________________________________\n",
      "conv_pw_5_bn (BatchNormaliza (None, 8, 8, 256)         1024      \n",
      "_________________________________________________________________\n",
      "conv_pw_5_relu (ReLU)        (None, 8, 8, 256)         0         \n",
      "_________________________________________________________________\n",
      "conv_pad_6 (ZeroPadding2D)   (None, 9, 9, 256)         0         \n",
      "_________________________________________________________________\n",
      "conv_dw_6 (DepthwiseConv2D)  (None, 4, 4, 256)         2304      \n",
      "_________________________________________________________________\n",
      "conv_dw_6_bn (BatchNormaliza (None, 4, 4, 256)         1024      \n",
      "_________________________________________________________________\n",
      "conv_dw_6_relu (ReLU)        (None, 4, 4, 256)         0         \n",
      "_________________________________________________________________\n",
      "conv_pw_6 (Conv2D)           (None, 4, 4, 512)         131072    \n",
      "_________________________________________________________________\n",
      "conv_pw_6_bn (BatchNormaliza (None, 4, 4, 512)         2048      \n",
      "_________________________________________________________________\n",
      "conv_pw_6_relu (ReLU)        (None, 4, 4, 512)         0         \n",
      "_________________________________________________________________\n",
      "conv_dw_7 (DepthwiseConv2D)  (None, 4, 4, 512)         4608      \n",
      "_________________________________________________________________\n",
      "conv_dw_7_bn (BatchNormaliza (None, 4, 4, 512)         2048      \n",
      "_________________________________________________________________\n",
      "conv_dw_7_relu (ReLU)        (None, 4, 4, 512)         0         \n",
      "_________________________________________________________________\n",
      "conv_pw_7 (Conv2D)           (None, 4, 4, 512)         262144    \n",
      "_________________________________________________________________\n",
      "conv_pw_7_bn (BatchNormaliza (None, 4, 4, 512)         2048      \n",
      "_________________________________________________________________\n",
      "conv_pw_7_relu (ReLU)        (None, 4, 4, 512)         0         \n",
      "_________________________________________________________________\n",
      "conv_dw_8 (DepthwiseConv2D)  (None, 4, 4, 512)         4608      \n",
      "_________________________________________________________________\n",
      "conv_dw_8_bn (BatchNormaliza (None, 4, 4, 512)         2048      \n",
      "_________________________________________________________________\n",
      "conv_dw_8_relu (ReLU)        (None, 4, 4, 512)         0         \n",
      "_________________________________________________________________\n",
      "conv_pw_8 (Conv2D)           (None, 4, 4, 512)         262144    \n",
      "_________________________________________________________________\n",
      "conv_pw_8_bn (BatchNormaliza (None, 4, 4, 512)         2048      \n",
      "_________________________________________________________________\n",
      "conv_pw_8_relu (ReLU)        (None, 4, 4, 512)         0         \n",
      "_________________________________________________________________\n",
      "conv_dw_9 (DepthwiseConv2D)  (None, 4, 4, 512)         4608      \n",
      "_________________________________________________________________\n",
      "conv_dw_9_bn (BatchNormaliza (None, 4, 4, 512)         2048      \n",
      "_________________________________________________________________\n",
      "conv_dw_9_relu (ReLU)        (None, 4, 4, 512)         0         \n",
      "_________________________________________________________________\n",
      "conv_pw_9 (Conv2D)           (None, 4, 4, 512)         262144    \n",
      "_________________________________________________________________\n",
      "conv_pw_9_bn (BatchNormaliza (None, 4, 4, 512)         2048      \n",
      "_________________________________________________________________\n",
      "conv_pw_9_relu (ReLU)        (None, 4, 4, 512)         0         \n",
      "_________________________________________________________________\n",
      "conv_dw_10 (DepthwiseConv2D) (None, 4, 4, 512)         4608      \n",
      "_________________________________________________________________\n",
      "conv_dw_10_bn (BatchNormaliz (None, 4, 4, 512)         2048      \n",
      "_________________________________________________________________\n",
      "conv_dw_10_relu (ReLU)       (None, 4, 4, 512)         0         \n",
      "_________________________________________________________________\n",
      "conv_pw_10 (Conv2D)          (None, 4, 4, 512)         262144    \n",
      "_________________________________________________________________\n",
      "conv_pw_10_bn (BatchNormaliz (None, 4, 4, 512)         2048      \n",
      "_________________________________________________________________\n",
      "conv_pw_10_relu (ReLU)       (None, 4, 4, 512)         0         \n",
      "_________________________________________________________________\n",
      "conv_dw_11 (DepthwiseConv2D) (None, 4, 4, 512)         4608      \n",
      "_________________________________________________________________\n",
      "conv_dw_11_bn (BatchNormaliz (None, 4, 4, 512)         2048      \n",
      "_________________________________________________________________\n",
      "conv_dw_11_relu (ReLU)       (None, 4, 4, 512)         0         \n",
      "_________________________________________________________________\n",
      "conv_pw_11 (Conv2D)          (None, 4, 4, 512)         262144    \n",
      "_________________________________________________________________\n",
      "conv_pw_11_bn (BatchNormaliz (None, 4, 4, 512)         2048      \n",
      "_________________________________________________________________\n",
      "conv_pw_11_relu (ReLU)       (None, 4, 4, 512)         0         \n",
      "_________________________________________________________________\n",
      "conv_pad_12 (ZeroPadding2D)  (None, 5, 5, 512)         0         \n",
      "_________________________________________________________________\n",
      "conv_dw_12 (DepthwiseConv2D) (None, 2, 2, 512)         4608      \n",
      "_________________________________________________________________\n",
      "conv_dw_12_bn (BatchNormaliz (None, 2, 2, 512)         2048      \n",
      "_________________________________________________________________\n",
      "conv_dw_12_relu (ReLU)       (None, 2, 2, 512)         0         \n",
      "_________________________________________________________________\n",
      "conv_pw_12 (Conv2D)          (None, 2, 2, 1024)        524288    \n",
      "_________________________________________________________________\n",
      "conv_pw_12_bn (BatchNormaliz (None, 2, 2, 1024)        4096      \n",
      "_________________________________________________________________\n",
      "conv_pw_12_relu (ReLU)       (None, 2, 2, 1024)        0         \n",
      "_________________________________________________________________\n",
      "conv_dw_13 (DepthwiseConv2D) (None, 2, 2, 1024)        9216      \n",
      "_________________________________________________________________\n",
      "conv_dw_13_bn (BatchNormaliz (None, 2, 2, 1024)        4096      \n",
      "_________________________________________________________________\n",
      "conv_dw_13_relu (ReLU)       (None, 2, 2, 1024)        0         \n",
      "_________________________________________________________________\n",
      "conv_pw_13 (Conv2D)          (None, 2, 2, 1024)        1048576   \n",
      "_________________________________________________________________\n",
      "conv_pw_13_bn (BatchNormaliz (None, 2, 2, 1024)        4096      \n",
      "_________________________________________________________________\n",
      "conv_pw_13_relu (ReLU)       (None, 2, 2, 1024)        0         \n",
      "_________________________________________________________________\n",
      "global_average_pooling2d (Gl (None, 1024)              0         \n",
      "_________________________________________________________________\n",
      "reshape_1 (Reshape)          (None, 1, 1, 1024)        0         \n",
      "_________________________________________________________________\n",
      "dropout (Dropout)            (None, 1, 1, 1024)        0         \n",
      "_________________________________________________________________\n",
      "conv_preds (Conv2D)          (None, 1, 1, 340)         348500    \n",
      "_________________________________________________________________\n",
      "act_softmax (Activation)     (None, 1, 1, 340)         0         \n",
      "_________________________________________________________________\n",
      "reshape_2 (Reshape)          (None, 340)               0         \n",
      "=================================================================\n",
      "Total params: 3,576,788\n",
      "Trainable params: 3,554,900\n",
      "Non-trainable params: 21,888\n",
      "_________________________________________________________________\n",
      "None\n"
     ]
    }
   ],
   "source": [
    "model = MobileNet(input_shape=(size, size, 1), alpha=1., weights=None, classes=NCATS)\n",
    "model.compile(optimizer=Adam(lr=0.002), loss='categorical_crossentropy',\n",
    "              metrics=[categorical_crossentropy, categorical_accuracy, top_3_accuracy])\n",
    "print(model.summary())"
   ]
  },
  {
   "cell_type": "markdown",
   "metadata": {
    "_uuid": "ab1834ea2757a53d602a3508efffcc34bc190dc7"
   },
   "source": [
    "## Training with Image Generator"
   ]
  },
  {
   "cell_type": "code",
   "execution_count": 6,
   "metadata": {
    "_uuid": "f6455bf9555b8381b6a4292098a64a0eb7ff54dc"
   },
   "outputs": [],
   "source": [
    "def draw_cv2(raw_strokes, size=256, lw=6, time_color=True):\n",
    "    img = np.zeros((BASE_SIZE, BASE_SIZE), np.uint8)\n",
    "    for t, stroke in enumerate(raw_strokes):\n",
    "        for i in range(len(stroke[0]) - 1):\n",
    "            color = 255 - min(t, 10) * 13 if time_color else 255\n",
    "            _ = cv2.line(img, (stroke[0][i], stroke[1][i]),\n",
    "                         (stroke[0][i + 1], stroke[1][i + 1]), color, lw)\n",
    "    if size != BASE_SIZE:\n",
    "        return cv2.resize(img, (size, size))\n",
    "    else:\n",
    "        return img\n",
    "\n",
    "def image_generator_xd(size, batchsize, ks, lw=6, time_color=True):\n",
    "    while True:\n",
    "        for k in np.random.permutation(ks):\n",
    "            filename = os.path.join(DP_DIR, 'train_k{}.csv.gz'.format(k))\n",
    "            for df in pd.read_csv(filename, chunksize=batchsize):\n",
    "                df['drawing'] = df['drawing'].apply(ast.literal_eval)\n",
    "                x = np.zeros((len(df), size, size, 1))\n",
    "                for i, raw_strokes in enumerate(df.drawing.values):\n",
    "                    x[i, :, :, 0] = draw_cv2(raw_strokes, size=size, lw=lw,\n",
    "                                             time_color=time_color)\n",
    "                x = preprocess_input(x).astype(np.float32)\n",
    "                y = keras.utils.to_categorical(df.y, num_classes=NCATS)\n",
    "                yield x, y\n",
    "\n",
    "def df_to_image_array_xd(df, size, lw=6, time_color=True):\n",
    "    df['drawing'] = df['drawing'].apply(ast.literal_eval)\n",
    "    x = np.zeros((len(df), size, size, 1))\n",
    "    for i, raw_strokes in enumerate(df.drawing.values):\n",
    "        x[i, :, :, 0] = draw_cv2(raw_strokes, size=size, lw=lw, time_color=time_color)\n",
    "    x = preprocess_input(x).astype(np.float32)\n",
    "    return x"
   ]
  },
  {
   "cell_type": "code",
   "execution_count": 7,
   "metadata": {
    "_uuid": "98ff512e1a1b5e86e86d9eef4127525bedf3b9e1"
   },
   "outputs": [
    {
     "name": "stdout",
     "output_type": "stream",
     "text": [
      "(34000, 64, 64, 1) (34000, 340)\n",
      "Validation array memory 0.52 GB\n"
     ]
    }
   ],
   "source": [
    "valid_df = pd.read_csv(os.path.join(DP_DIR, 'train_k{}.csv.gz'.format(NCSVS - 1)), nrows=34000)\n",
    "x_valid = df_to_image_array_xd(valid_df, size)\n",
    "y_valid = keras.utils.to_categorical(valid_df.y, num_classes=NCATS)\n",
    "print(x_valid.shape, y_valid.shape)\n",
    "print('Validation array memory {:.2f} GB'.format(x_valid.nbytes / 1024.**3 ))"
   ]
  },
  {
   "cell_type": "code",
   "execution_count": 8,
   "metadata": {
    "_uuid": "d80ad7f4d378ea7f30479221d604eeeed559cae4"
   },
   "outputs": [],
   "source": [
    "train_datagen = image_generator_xd(size=size, batchsize=batchsize, ks=range(NCSVS - 1))"
   ]
  },
  {
   "cell_type": "code",
   "execution_count": 9,
   "metadata": {
    "_uuid": "9ce5fb89fbb77777316d6fca7689b6636c0e6021"
   },
   "outputs": [
    {
     "data": {
      "image/png": "[encoded data removed]",
      "text/plain": [
       "<Figure size 864x864 with 64 Axes>"
      ]
     },
     "metadata": {},
     "output_type": "display_data"
    }
   ],
   "source": [
    "x, y = next(train_datagen)\n",
    "n = 8\n",
    "fig, axs = plt.subplots(nrows=n, ncols=n, sharex=True, sharey=True, figsize=(12, 12))\n",
    "for i in range(n**2):\n",
    "    ax = axs[i // n, i % n]\n",
    "    (-x[i]+1)/2\n",
    "    ax.imshow((-x[i, :, :, 0] + 1)/2, cmap=plt.cm.gray)\n",
    "    ax.axis('off')\n",
    "plt.tight_layout()\n",
    "fig.savefig('gs.png', dpi=300)\n",
    "plt.show();"
   ]
  },
  {
   "cell_type": "code",
   "execution_count": 10,
   "metadata": {
    "_uuid": "da72d70fc1781e80427d45a80c07b3571dda0b36"
   },
   "outputs": [
    {
     "name": "stdout",
     "output_type": "stream",
     "text": [
      "Epoch 1/16\n",
      "800/800 [==============================] - 215s 269ms/step - loss: 2.8514 - categorical_crossentropy: 2.8514 - categorical_accuracy: 0.3635 - top_3_accuracy: 0.5486 - val_loss: 3.2909 - val_categorical_crossentropy: 3.2909 - val_categorical_accuracy: 0.3296 - val_top_3_accuracy: 0.5344\n",
      "Epoch 2/16\n",
      "800/800 [==============================] - 209s 261ms/step - loss: 1.6678 - categorical_crossentropy: 1.6678 - categorical_accuracy: 0.5873 - top_3_accuracy: 0.7852 - val_loss: 2.2222 - val_categorical_crossentropy: 2.2222 - val_categorical_accuracy: 0.4723 - val_top_3_accuracy: 0.6898\n",
      "Epoch 3/16\n",
      "800/800 [==============================] - 212s 266ms/step - loss: 1.4498 - categorical_crossentropy: 1.4498 - categorical_accuracy: 0.6356 - top_3_accuracy: 0.8224 - val_loss: 1.7283 - val_categorical_crossentropy: 1.7283 - val_categorical_accuracy: 0.5766 - val_top_3_accuracy: 0.7792\n",
      "Epoch 4/16\n",
      "800/800 [==============================] - 221s 276ms/step - loss: 1.3357 - categorical_crossentropy: 1.3357 - categorical_accuracy: 0.6625 - top_3_accuracy: 0.8413 - val_loss: 2.5383 - val_categorical_crossentropy: 2.5383 - val_categorical_accuracy: 0.4114 - val_top_3_accuracy: 0.6374\n",
      "Epoch 5/16\n",
      "800/800 [==============================] - 221s 277ms/step - loss: 1.2837 - categorical_crossentropy: 1.2837 - categorical_accuracy: 0.6754 - top_3_accuracy: 0.8499 - val_loss: 5.5103 - val_categorical_crossentropy: 5.5103 - val_categorical_accuracy: 0.1545 - val_top_3_accuracy: 0.2968\n",
      "Epoch 6/16\n",
      "800/800 [==============================] - 213s 266ms/step - loss: 1.2167 - categorical_crossentropy: 1.2167 - categorical_accuracy: 0.6906 - top_3_accuracy: 0.8605 - val_loss: 1.3434 - val_categorical_crossentropy: 1.3434 - val_categorical_accuracy: 0.6609 - val_top_3_accuracy: 0.8393\n",
      "Epoch 7/16\n",
      "800/800 [==============================] - 208s 260ms/step - loss: 1.1729 - categorical_crossentropy: 1.1729 - categorical_accuracy: 0.7010 - top_3_accuracy: 0.8675 - val_loss: 4.2868 - val_categorical_crossentropy: 4.2868 - val_categorical_accuracy: 0.1855 - val_top_3_accuracy: 0.3350\n",
      "Epoch 8/16\n",
      "800/800 [==============================] - 205s 256ms/step - loss: 1.1452 - categorical_crossentropy: 1.1452 - categorical_accuracy: 0.7084 - top_3_accuracy: 0.8710 - val_loss: 1.2759 - val_categorical_crossentropy: 1.2759 - val_categorical_accuracy: 0.6774 - val_top_3_accuracy: 0.8516\n",
      "Epoch 9/16\n",
      "800/800 [==============================] - 207s 259ms/step - loss: 1.1431 - categorical_crossentropy: 1.1431 - categorical_accuracy: 0.7081 - top_3_accuracy: 0.8709 - val_loss: 1.2393 - val_categorical_crossentropy: 1.2393 - val_categorical_accuracy: 0.6855 - val_top_3_accuracy: 0.8558\n",
      "Epoch 10/16\n",
      "800/800 [==============================] - 208s 261ms/step - loss: 1.0970 - categorical_crossentropy: 1.0970 - categorical_accuracy: 0.7195 - top_3_accuracy: 0.8790 - val_loss: 1.1836 - val_categorical_crossentropy: 1.1836 - val_categorical_accuracy: 0.6967 - val_top_3_accuracy: 0.8662\n",
      "Epoch 11/16\n",
      "800/800 [==============================] - 204s 254ms/step - loss: 1.0824 - categorical_crossentropy: 1.0824 - categorical_accuracy: 0.7231 - top_3_accuracy: 0.8805 - val_loss: 4.1795 - val_categorical_crossentropy: 4.1795 - val_categorical_accuracy: 0.2594 - val_top_3_accuracy: 0.4264\n",
      "Epoch 12/16\n",
      "800/800 [==============================] - 210s 263ms/step - loss: 1.0632 - categorical_crossentropy: 1.0632 - categorical_accuracy: 0.7275 - top_3_accuracy: 0.8838 - val_loss: 2.2260 - val_categorical_crossentropy: 2.2260 - val_categorical_accuracy: 0.4716 - val_top_3_accuracy: 0.6906\n",
      "Epoch 13/16\n",
      "800/800 [==============================] - 205s 256ms/step - loss: 1.0497 - categorical_crossentropy: 1.0497 - categorical_accuracy: 0.7313 - top_3_accuracy: 0.8858 - val_loss: 1.1496 - val_categorical_crossentropy: 1.1496 - val_categorical_accuracy: 0.7056 - val_top_3_accuracy: 0.8730\n",
      "Epoch 14/16\n",
      "800/800 [==============================] - 209s 261ms/step - loss: 1.0334 - categorical_crossentropy: 1.0334 - categorical_accuracy: 0.7344 - top_3_accuracy: 0.8883 - val_loss: 1.3928 - val_categorical_crossentropy: 1.3928 - val_categorical_accuracy: 0.6518 - val_top_3_accuracy: 0.8361\n",
      "Epoch 15/16\n",
      "800/800 [==============================] - 211s 263ms/step - loss: 1.0160 - categorical_crossentropy: 1.0160 - categorical_accuracy: 0.7386 - top_3_accuracy: 0.8907 - val_loss: 1.0718 - val_categorical_crossentropy: 1.0718 - val_categorical_accuracy: 0.7270 - val_top_3_accuracy: 0.8839\n",
      "Epoch 16/16\n",
      "800/800 [==============================] - 209s 261ms/step - loss: 1.0313 - categorical_crossentropy: 1.0313 - categorical_accuracy: 0.7353 - top_3_accuracy: 0.8878 - val_loss: 1.0501 - val_categorical_crossentropy: 1.0501 - val_categorical_accuracy: 0.7304 - val_top_3_accuracy: 0.8880\n"
     ]
    }
   ],
   "source": [
    "callbacks = [\n",
    "    ReduceLROnPlateau(monitor='val_categorical_accuracy', factor=0.5, patience=5,\n",
    "                      min_delta=0.005, mode='max', cooldown=3, verbose=1)\n",
    "]\n",
    "hists = []\n",
    "hist = model.fit_generator(\n",
    "    train_datagen, steps_per_epoch=STEPS, epochs=EPOCHS, verbose=1,\n",
    "    validation_data=(x_valid, y_valid),\n",
    "    callbacks = callbacks\n",
    ")\n",
    "hists.append(hist)"
   ]
  },
  {
   "cell_type": "code",
   "execution_count": 11,
   "metadata": {
    "_kg_hide-input": true,
    "_kg_hide-output": true,
    "_uuid": "ada344bf3454765298e7b7ed7861c82bca2d2084"
   },
   "outputs": [
    {
     "name": "stdout",
     "output_type": "stream",
     "text": [
      "Epoch 1/16\n",
      "800/800 [==============================] - 212s 265ms/step - loss: 1.0026 - categorical_crossentropy: 1.0026 - categorical_accuracy: 0.7423 - top_3_accuracy: 0.8922 - val_loss: 1.0565 - val_categorical_crossentropy: 1.0565 - val_categorical_accuracy: 0.7292 - val_top_3_accuracy: 0.8845\n",
      "Epoch 2/16\n",
      "800/800 [==============================] - 207s 258ms/step - loss: 0.9860 - categorical_crossentropy: 0.9860 - categorical_accuracy: 0.7459 - top_3_accuracy: 0.8947 - val_loss: 4.4737 - val_categorical_crossentropy: 4.4737 - val_categorical_accuracy: 0.1729 - val_top_3_accuracy: 0.3050\n",
      "Epoch 3/16\n",
      "800/800 [==============================] - 206s 257ms/step - loss: 0.9686 - categorical_crossentropy: 0.9686 - categorical_accuracy: 0.7497 - top_3_accuracy: 0.8971 - val_loss: 1.0057 - val_categorical_crossentropy: 1.0057 - val_categorical_accuracy: 0.7424 - val_top_3_accuracy: 0.8942\n",
      "Epoch 4/16\n",
      "800/800 [==============================] - 202s 253ms/step - loss: 0.9584 - categorical_crossentropy: 0.9584 - categorical_accuracy: 0.7526 - top_3_accuracy: 0.8991 - val_loss: 1.2386 - val_categorical_crossentropy: 1.2386 - val_categorical_accuracy: 0.6842 - val_top_3_accuracy: 0.8570\n",
      "Epoch 5/16\n",
      "800/800 [==============================] - 203s 254ms/step - loss: 0.9451 - categorical_crossentropy: 0.9451 - categorical_accuracy: 0.7550 - top_3_accuracy: 0.9007 - val_loss: 0.9874 - val_categorical_crossentropy: 0.9874 - val_categorical_accuracy: 0.7457 - val_top_3_accuracy: 0.8957\n",
      "Epoch 6/16\n",
      "800/800 [==============================] - 207s 258ms/step - loss: 0.9459 - categorical_crossentropy: 0.9459 - categorical_accuracy: 0.7550 - top_3_accuracy: 0.9003 - val_loss: 0.9924 - val_categorical_crossentropy: 0.9924 - val_categorical_accuracy: 0.7438 - val_top_3_accuracy: 0.8955\n",
      "Epoch 7/16\n",
      "800/800 [==============================] - 203s 254ms/step - loss: 0.9587 - categorical_crossentropy: 0.9587 - categorical_accuracy: 0.7531 - top_3_accuracy: 0.8987 - val_loss: 0.9830 - val_categorical_crossentropy: 0.9830 - val_categorical_accuracy: 0.7484 - val_top_3_accuracy: 0.8967\n",
      "Epoch 8/16\n",
      "800/800 [==============================] - 203s 254ms/step - loss: 0.9314 - categorical_crossentropy: 0.9314 - categorical_accuracy: 0.7581 - top_3_accuracy: 0.9023 - val_loss: 0.9985 - val_categorical_crossentropy: 0.9985 - val_categorical_accuracy: 0.7420 - val_top_3_accuracy: 0.8939\n",
      "Epoch 9/16\n",
      "800/800 [==============================] - 205s 256ms/step - loss: 0.9334 - categorical_crossentropy: 0.9334 - categorical_accuracy: 0.7595 - top_3_accuracy: 0.9018 - val_loss: 0.9759 - val_categorical_crossentropy: 0.9759 - val_categorical_accuracy: 0.7482 - val_top_3_accuracy: 0.8971\n",
      "Epoch 10/16\n",
      "800/800 [==============================] - 205s 256ms/step - loss: 0.9212 - categorical_crossentropy: 0.9212 - categorical_accuracy: 0.7609 - top_3_accuracy: 0.9037 - val_loss: 2.2273 - val_categorical_crossentropy: 2.2273 - val_categorical_accuracy: 0.4702 - val_top_3_accuracy: 0.6918\n",
      "Epoch 11/16\n",
      "800/800 [==============================] - 203s 254ms/step - loss: 0.9267 - categorical_crossentropy: 0.9267 - categorical_accuracy: 0.7601 - top_3_accuracy: 0.9034 - val_loss: 0.9626 - val_categorical_crossentropy: 0.9626 - val_categorical_accuracy: 0.7500 - val_top_3_accuracy: 0.8987\n",
      "Epoch 12/16\n",
      "799/800 [============================>.] - ETA: 0s - loss: 0.9301 - categorical_crossentropy: 0.9301 - categorical_accuracy: 0.7600 - top_3_accuracy: 0.9027\n",
      "Epoch 00012: ReduceLROnPlateau reducing learning rate to 0.0010000000474974513.\n",
      "800/800 [==============================] - 206s 257ms/step - loss: 0.9302 - categorical_crossentropy: 0.9302 - categorical_accuracy: 0.7600 - top_3_accuracy: 0.9027 - val_loss: 0.9546 - val_categorical_crossentropy: 0.9546 - val_categorical_accuracy: 0.7530 - val_top_3_accuracy: 0.9008\n",
      "Epoch 13/16\n",
      "800/800 [==============================] - 206s 257ms/step - loss: 0.8842 - categorical_crossentropy: 0.8842 - categorical_accuracy: 0.7711 - top_3_accuracy: 0.9088 - val_loss: 0.8816 - val_categorical_crossentropy: 0.8816 - val_categorical_accuracy: 0.7708 - val_top_3_accuracy: 0.9101\n",
      "Epoch 14/16\n",
      "800/800 [==============================] - 205s 257ms/step - loss: 0.8617 - categorical_crossentropy: 0.8617 - categorical_accuracy: 0.7763 - top_3_accuracy: 0.9112 - val_loss: 0.8943 - val_categorical_crossentropy: 0.8943 - val_categorical_accuracy: 0.7694 - val_top_3_accuracy: 0.9080\n",
      "Epoch 15/16\n",
      "800/800 [==============================] - 203s 254ms/step - loss: 0.8608 - categorical_crossentropy: 0.8608 - categorical_accuracy: 0.7764 - top_3_accuracy: 0.9116 - val_loss: 0.8778 - val_categorical_crossentropy: 0.8778 - val_categorical_accuracy: 0.7741 - val_top_3_accuracy: 0.9099\n",
      "Epoch 16/16\n",
      "800/800 [==============================] - 208s 260ms/step - loss: 0.8608 - categorical_crossentropy: 0.8608 - categorical_accuracy: 0.7773 - top_3_accuracy: 0.9119 - val_loss: 0.8753 - val_categorical_crossentropy: 0.8753 - val_categorical_accuracy: 0.7736 - val_top_3_accuracy: 0.9103\n"
     ]
    }
   ],
   "source": [
    "hist = model.fit_generator(\n",
    "    train_datagen, steps_per_epoch=STEPS, epochs=EPOCHS, verbose=1,\n",
    "    validation_data=(x_valid, y_valid),\n",
    "    callbacks = callbacks\n",
    ")\n",
    "hists.append(hist)"
   ]
  },
  {
   "cell_type": "code",
   "execution_count": 12,
   "metadata": {
    "_kg_hide-input": true,
    "_kg_hide-output": true,
    "_uuid": "4a3a0cfef0d984d5b02872617e0eb2ad8a791964"
   },
   "outputs": [
    {
     "name": "stdout",
     "output_type": "stream",
     "text": [
      "Epoch 1/16\n",
      "800/800 [==============================] - 207s 259ms/step - loss: 0.8609 - categorical_crossentropy: 0.8609 - categorical_accuracy: 0.7780 - top_3_accuracy: 0.9115 - val_loss: 0.8692 - val_categorical_crossentropy: 0.8692 - val_categorical_accuracy: 0.7740 - val_top_3_accuracy: 0.9107\n",
      "Epoch 2/16\n",
      "800/800 [==============================] - 202s 252ms/step - loss: 0.8537 - categorical_crossentropy: 0.8537 - categorical_accuracy: 0.7788 - top_3_accuracy: 0.9128 - val_loss: 0.8674 - val_categorical_crossentropy: 0.8674 - val_categorical_accuracy: 0.7762 - val_top_3_accuracy: 0.9125\n",
      "Epoch 3/16\n",
      "800/800 [==============================] - 204s 255ms/step - loss: 0.8535 - categorical_crossentropy: 0.8535 - categorical_accuracy: 0.7786 - top_3_accuracy: 0.9132 - val_loss: 1.1139 - val_categorical_crossentropy: 1.1139 - val_categorical_accuracy: 0.7137 - val_top_3_accuracy: 0.8783\n",
      "Epoch 4/16\n",
      "800/800 [==============================] - 205s 256ms/step - loss: 0.8453 - categorical_crossentropy: 0.8453 - categorical_accuracy: 0.7798 - top_3_accuracy: 0.9136 - val_loss: 0.8676 - val_categorical_crossentropy: 0.8676 - val_categorical_accuracy: 0.7747 - val_top_3_accuracy: 0.9114\n",
      "Epoch 5/16\n",
      "800/800 [==============================] - 204s 254ms/step - loss: 0.8512 - categorical_crossentropy: 0.8512 - categorical_accuracy: 0.7800 - top_3_accuracy: 0.9127 - val_loss: 0.9002 - val_categorical_crossentropy: 0.9002 - val_categorical_accuracy: 0.7675 - val_top_3_accuracy: 0.9074\n",
      "Epoch 6/16\n",
      "799/800 [============================>.] - ETA: 0s - loss: 0.8205 - categorical_crossentropy: 0.8205 - categorical_accuracy: 0.7861 - top_3_accuracy: 0.9170\n",
      "Epoch 00006: ReduceLROnPlateau reducing learning rate to 0.0005000000237487257.\n",
      "800/800 [==============================] - 204s 255ms/step - loss: 0.8205 - categorical_crossentropy: 0.8205 - categorical_accuracy: 0.7861 - top_3_accuracy: 0.9170 - val_loss: 0.8601 - val_categorical_crossentropy: 0.8601 - val_categorical_accuracy: 0.7770 - val_top_3_accuracy: 0.9126\n",
      "Epoch 7/16\n",
      "800/800 [==============================] - 204s 255ms/step - loss: 0.7798 - categorical_crossentropy: 0.7798 - categorical_accuracy: 0.7963 - top_3_accuracy: 0.9216 - val_loss: 0.8363 - val_categorical_crossentropy: 0.8363 - val_categorical_accuracy: 0.7844 - val_top_3_accuracy: 0.9144\n",
      "Epoch 8/16\n",
      "800/800 [==============================] - 205s 256ms/step - loss: 0.7891 - categorical_crossentropy: 0.7891 - categorical_accuracy: 0.7933 - top_3_accuracy: 0.9209 - val_loss: 0.8327 - val_categorical_crossentropy: 0.8327 - val_categorical_accuracy: 0.7845 - val_top_3_accuracy: 0.9159\n",
      "Epoch 9/16\n",
      "800/800 [==============================] - 205s 256ms/step - loss: 0.7848 - categorical_crossentropy: 0.7848 - categorical_accuracy: 0.7947 - top_3_accuracy: 0.9213 - val_loss: 0.8318 - val_categorical_crossentropy: 0.8318 - val_categorical_accuracy: 0.7855 - val_top_3_accuracy: 0.9163\n",
      "Epoch 10/16\n",
      "800/800 [==============================] - 203s 254ms/step - loss: 0.7771 - categorical_crossentropy: 0.7771 - categorical_accuracy: 0.7970 - top_3_accuracy: 0.9221 - val_loss: 0.8332 - val_categorical_crossentropy: 0.8332 - val_categorical_accuracy: 0.7849 - val_top_3_accuracy: 0.9166\n",
      "Epoch 11/16\n",
      "800/800 [==============================] - 205s 257ms/step - loss: 0.7873 - categorical_crossentropy: 0.7873 - categorical_accuracy: 0.7952 - top_3_accuracy: 0.9208 - val_loss: 0.8248 - val_categorical_crossentropy: 0.8248 - val_categorical_accuracy: 0.7858 - val_top_3_accuracy: 0.9160\n",
      "Epoch 12/16\n",
      "800/800 [==============================] - 205s 256ms/step - loss: 0.7740 - categorical_crossentropy: 0.7740 - categorical_accuracy: 0.7977 - top_3_accuracy: 0.9227 - val_loss: 0.8263 - val_categorical_crossentropy: 0.8263 - val_categorical_accuracy: 0.7861 - val_top_3_accuracy: 0.9165\n",
      "Epoch 13/16\n",
      "799/800 [============================>.] - ETA: 0s - loss: 0.7758 - categorical_crossentropy: 0.7758 - categorical_accuracy: 0.7971 - top_3_accuracy: 0.9227\n",
      "Epoch 00013: ReduceLROnPlateau reducing learning rate to 0.0002500000118743628.\n",
      "800/800 [==============================] - 203s 254ms/step - loss: 0.7757 - categorical_crossentropy: 0.7757 - categorical_accuracy: 0.7971 - top_3_accuracy: 0.9228 - val_loss: 0.8272 - val_categorical_crossentropy: 0.8272 - val_categorical_accuracy: 0.7870 - val_top_3_accuracy: 0.9173\n",
      "Epoch 14/16\n",
      "800/800 [==============================] - 206s 257ms/step - loss: 0.7674 - categorical_crossentropy: 0.7674 - categorical_accuracy: 0.7995 - top_3_accuracy: 0.9234 - val_loss: 0.8140 - val_categorical_crossentropy: 0.8140 - val_categorical_accuracy: 0.7917 - val_top_3_accuracy: 0.9181\n",
      "Epoch 15/16\n",
      "800/800 [==============================] - 206s 257ms/step - loss: 0.7651 - categorical_crossentropy: 0.7651 - categorical_accuracy: 0.7998 - top_3_accuracy: 0.9237 - val_loss: 0.8128 - val_categorical_crossentropy: 0.8128 - val_categorical_accuracy: 0.7897 - val_top_3_accuracy: 0.9188\n",
      "Epoch 16/16\n",
      "800/800 [==============================] - 204s 256ms/step - loss: 0.7708 - categorical_crossentropy: 0.7708 - categorical_accuracy: 0.7991 - top_3_accuracy: 0.9229 - val_loss: 0.8111 - val_categorical_crossentropy: 0.8111 - val_categorical_accuracy: 0.7901 - val_top_3_accuracy: 0.9191\n"
     ]
    }
   ],
   "source": [
    "hist = model.fit_generator(\n",
    "    train_datagen, steps_per_epoch=STEPS, epochs=EPOCHS, verbose=1,\n",
    "    validation_data=(x_valid, y_valid),\n",
    "    callbacks = callbacks\n",
    ")\n",
    "hists.append(hist)"
   ]
  },
  {
   "cell_type": "code",
   "execution_count": 13,
   "metadata": {
    "_uuid": "05767778d356bc63b7cded355159fd4082eee1a5"
   },
   "outputs": [
    {
     "data": {
      "image/png": "[encoded data removed]",
      "text/plain": [
       "<Figure size 1152x720 with 2 Axes>"
      ]
     },
     "metadata": {},
     "output_type": "display_data"
    }
   ],
   "source": [
    "hist_df = pd.concat([pd.DataFrame(hist.history) for hist in hists], sort=True)\n",
    "hist_df.index = np.arange(1, len(hist_df)+1)\n",
    "fig, axs = plt.subplots(nrows=2, sharex=True, figsize=(16, 10))\n",
    "axs[0].plot(hist_df.val_categorical_accuracy, lw=5, label='Validation Accuracy')\n",
    "axs[0].plot(hist_df.categorical_accuracy, lw=5, label='Training Accuracy')\n",
    "axs[0].set_ylabel('Accuracy')\n",
    "axs[0].set_xlabel('Epoch')\n",
    "axs[0].grid()\n",
    "axs[0].legend(loc=0)\n",
    "axs[1].plot(hist_df.val_categorical_crossentropy, lw=5, label='Validation MLogLoss')\n",
    "axs[1].plot(hist_df.categorical_crossentropy, lw=5, label='Training MLogLoss')\n",
    "axs[1].set_ylabel('MLogLoss')\n",
    "axs[1].set_xlabel('Epoch')\n",
    "axs[1].grid()\n",
    "axs[1].legend(loc=0)\n",
    "fig.savefig('hist.png', dpi=300)\n",
    "plt.show();"
   ]
  },
  {
   "cell_type": "code",
   "execution_count": 14,
   "metadata": {
    "_uuid": "8c1927f22d3c45cba0bdee7d6f4b6c858d82d614"
   },
   "outputs": [
    {
     "name": "stdout",
     "output_type": "stream",
     "text": [
      "34000/34000 [==============================] - 4s 120us/step\n",
      "Map3: 0.846\n"
     ]
    }
   ],
   "source": [
    "valid_predictions = model.predict(x_valid, batch_size=128, verbose=1)\n",
    "map3 = mapk(valid_df[['y']].values, preds2catids(valid_predictions).values)\n",
    "print('Map3: {:.3f}'.format(map3))"
   ]
  },
  {
   "cell_type": "markdown",
   "metadata": {
    "_uuid": "be4577a9ba00611697eea8f241a42c504981e86f"
   },
   "source": [
    "## Create Submission"
   ]
  },
  {
   "cell_type": "code",
   "execution_count": 16,
   "metadata": {
    "_uuid": "a7d14348150baf753e90cf2719b9f31dd564f6a2"
   },
   "outputs": [
    {
     "data": {
      "text/html": [
       "<div>\n",
       "<style scoped>\n",
       "    .dataframe tbody tr th:only-of-type {\n",
       "        vertical-align: middle;\n",
       "    }\n",
       "\n",
       "    .dataframe tbody tr th {\n",
       "        vertical-align: top;\n",
       "    }\n",
       "\n",
       "    .dataframe thead th {\n",
       "        text-align: right;\n",
       "    }\n",
       "</style>\n",
       "<table border=\"1\" class=\"dataframe\">\n",
       "  <thead>\n",
       "    <tr style=\"text-align: right;\">\n",
       "      <th></th>\n",
       "      <th>key_id</th>\n",
       "      <th>countrycode</th>\n",
       "      <th>drawing</th>\n",
       "    </tr>\n",
       "  </thead>\n",
       "  <tbody>\n",
       "    <tr>\n",
       "      <th>0</th>\n",
       "      <td>9000003627287624</td>\n",
       "      <td>DE</td>\n",
       "      <td>[[[17, 18, 20, 25, 137, 174, 242, 249, 251, 25...</td>\n",
       "    </tr>\n",
       "    <tr>\n",
       "      <th>1</th>\n",
       "      <td>9000010688666847</td>\n",
       "      <td>UA</td>\n",
       "      <td>[[[174, 145, 106, 38, 11, 4, 4, 15, 29, 78, 16...</td>\n",
       "    </tr>\n",
       "    <tr>\n",
       "      <th>2</th>\n",
       "      <td>9000023642890129</td>\n",
       "      <td>BG</td>\n",
       "      <td>[[[0, 12, 14, 17, 16, 24, 55, 57, 60, 79, 82, ...</td>\n",
       "    </tr>\n",
       "    <tr>\n",
       "      <th>3</th>\n",
       "      <td>9000038588854897</td>\n",
       "      <td>US</td>\n",
       "      <td>[[[0, 9, 23, 40, 54, 60, 81, 105, 123, 167, 20...</td>\n",
       "    </tr>\n",
       "    <tr>\n",
       "      <th>4</th>\n",
       "      <td>9000052667981386</td>\n",
       "      <td>AR</td>\n",
       "      <td>[[[87, 82, 71, 63, 66, 92, 96, 95], [220, 218,...</td>\n",
       "    </tr>\n",
       "  </tbody>\n",
       "</table>\n",
       "</div>"
      ],
      "text/plain": [
       "             key_id countrycode  \\\n",
       "0  9000003627287624          DE   \n",
       "1  9000010688666847          UA   \n",
       "2  9000023642890129          BG   \n",
       "3  9000038588854897          US   \n",
       "4  9000052667981386          AR   \n",
       "\n",
       "                                             drawing  \n",
       "0  [[[17, 18, 20, 25, 137, 174, 242, 249, 251, 25...  \n",
       "1  [[[174, 145, 106, 38, 11, 4, 4, 15, 29, 78, 16...  \n",
       "2  [[[0, 12, 14, 17, 16, 24, 55, 57, 60, 79, 82, ...  \n",
       "3  [[[0, 9, 23, 40, 54, 60, 81, 105, 123, 167, 20...  \n",
       "4  [[[87, 82, 71, 63, 66, 92, 96, 95], [220, 218,...  "
      ]
     },
     "execution_count": 16,
     "metadata": {},
     "output_type": "execute_result"
    },
    {
     "name": "stdout",
     "output_type": "stream",
     "text": [
      "(112199, 3) (112199, 64, 64, 1)\n",
      "Test array memory 1.71 GB\n"
     ]
    }
   ],
   "source": [
    "test = pd.read_csv(os.path.join('.', 'test_simplified.csv'))\n",
    "test.head()\n",
    "x_test = df_to_image_array_xd(test, size)\n",
    "print(test.shape, x_test.shape)\n",
    "print('Test array memory {:.2f} GB'.format(x_test.nbytes / 1024.**3 ))"
   ]
  },
  {
   "cell_type": "code",
   "execution_count": 18,
   "metadata": {},
   "outputs": [],
   "source": [
    "def list_all_categories():\n",
    "    files = os.listdir(os.path.join('.', 'train_simplified'))\n",
    "    return sorted([f2cat(f) for f in files], key=str.lower)"
   ]
  },
  {
   "cell_type": "code",
   "execution_count": 19,
   "metadata": {
    "_uuid": "608b02f5c7909ae62becbe5c931b7264171296e8"
   },
   "outputs": [
    {
     "name": "stdout",
     "output_type": "stream",
     "text": [
      "112199/112199 [==============================] - 11s 101us/step\n"
     ]
    },
    {
     "data": {
      "text/html": [
       "<div>\n",
       "<style scoped>\n",
       "    .dataframe tbody tr th:only-of-type {\n",
       "        vertical-align: middle;\n",
       "    }\n",
       "\n",
       "    .dataframe tbody tr th {\n",
       "        vertical-align: top;\n",
       "    }\n",
       "\n",
       "    .dataframe thead th {\n",
       "        text-align: right;\n",
       "    }\n",
       "</style>\n",
       "<table border=\"1\" class=\"dataframe\">\n",
       "  <thead>\n",
       "    <tr style=\"text-align: right;\">\n",
       "      <th></th>\n",
       "      <th>a</th>\n",
       "      <th>b</th>\n",
       "      <th>c</th>\n",
       "    </tr>\n",
       "  </thead>\n",
       "  <tbody>\n",
       "    <tr>\n",
       "      <th>0</th>\n",
       "      <td>234</td>\n",
       "      <td>281</td>\n",
       "      <td>1</td>\n",
       "    </tr>\n",
       "    <tr>\n",
       "      <th>1</th>\n",
       "      <td>144</td>\n",
       "      <td>36</td>\n",
       "      <td>226</td>\n",
       "    </tr>\n",
       "    <tr>\n",
       "      <th>2</th>\n",
       "      <td>305</td>\n",
       "      <td>62</td>\n",
       "      <td>110</td>\n",
       "    </tr>\n",
       "    <tr>\n",
       "      <th>3</th>\n",
       "      <td>187</td>\n",
       "      <td>303</td>\n",
       "      <td>69</td>\n",
       "    </tr>\n",
       "    <tr>\n",
       "      <th>4</th>\n",
       "      <td>113</td>\n",
       "      <td>56</td>\n",
       "      <td>112</td>\n",
       "    </tr>\n",
       "  </tbody>\n",
       "</table>\n",
       "</div>"
      ],
      "text/plain": [
       "     a    b    c\n",
       "0  234  281    1\n",
       "1  144   36  226\n",
       "2  305   62  110\n",
       "3  187  303   69\n",
       "4  113   56  112"
      ]
     },
     "execution_count": 19,
     "metadata": {},
     "output_type": "execute_result"
    },
    {
     "data": {
      "text/plain": [
       "(112199, 3)"
      ]
     },
     "execution_count": 19,
     "metadata": {},
     "output_type": "execute_result"
    },
    {
     "data": {
      "text/html": [
       "<div>\n",
       "<style scoped>\n",
       "    .dataframe tbody tr th:only-of-type {\n",
       "        vertical-align: middle;\n",
       "    }\n",
       "\n",
       "    .dataframe tbody tr th {\n",
       "        vertical-align: top;\n",
       "    }\n",
       "\n",
       "    .dataframe thead th {\n",
       "        text-align: right;\n",
       "    }\n",
       "</style>\n",
       "<table border=\"1\" class=\"dataframe\">\n",
       "  <thead>\n",
       "    <tr style=\"text-align: right;\">\n",
       "      <th></th>\n",
       "      <th>a</th>\n",
       "      <th>b</th>\n",
       "      <th>c</th>\n",
       "    </tr>\n",
       "  </thead>\n",
       "  <tbody>\n",
       "    <tr>\n",
       "      <th>0</th>\n",
       "      <td>radio</td>\n",
       "      <td>stereo</td>\n",
       "      <td>alarm_clock</td>\n",
       "    </tr>\n",
       "    <tr>\n",
       "      <th>1</th>\n",
       "      <td>hockey_puck</td>\n",
       "      <td>bottlecap</td>\n",
       "      <td>pool</td>\n",
       "    </tr>\n",
       "    <tr>\n",
       "      <th>2</th>\n",
       "      <td>The_Great_Wall_of_China</td>\n",
       "      <td>castle</td>\n",
       "      <td>fence</td>\n",
       "    </tr>\n",
       "    <tr>\n",
       "      <th>3</th>\n",
       "      <td>mountain</td>\n",
       "      <td>tent</td>\n",
       "      <td>church</td>\n",
       "    </tr>\n",
       "    <tr>\n",
       "      <th>4</th>\n",
       "      <td>fireplace</td>\n",
       "      <td>campfire</td>\n",
       "      <td>fire_hydrant</td>\n",
       "    </tr>\n",
       "  </tbody>\n",
       "</table>\n",
       "</div>"
      ],
      "text/plain": [
       "                         a          b             c\n",
       "0                    radio     stereo   alarm_clock\n",
       "1              hockey_puck  bottlecap          pool\n",
       "2  The_Great_Wall_of_China     castle         fence\n",
       "3                 mountain       tent        church\n",
       "4                fireplace   campfire  fire_hydrant"
      ]
     },
     "execution_count": 19,
     "metadata": {},
     "output_type": "execute_result"
    },
    {
     "data": {
      "text/plain": [
       "(112199, 3)"
      ]
     },
     "execution_count": 19,
     "metadata": {},
     "output_type": "execute_result"
    }
   ],
   "source": [
    "test_predictions = model.predict(x_test, batch_size=128, verbose=1)\n",
    "\n",
    "top3 = preds2catids(test_predictions)\n",
    "top3.head()\n",
    "top3.shape\n",
    "\n",
    "cats = list_all_categories()\n",
    "id2cat = {k: cat.replace(' ', '_') for k, cat in enumerate(cats)}\n",
    "top3cats = top3.replace(id2cat)\n",
    "top3cats.head()\n",
    "top3cats.shape"
   ]
  },
  {
   "cell_type": "code",
   "execution_count": 20,
   "metadata": {
    "_uuid": "52e0f9c44f2a9a38fd1550ffb9c07fb7ea22b17d"
   },
   "outputs": [
    {
     "data": {
      "text/html": [
       "<div>\n",
       "<style scoped>\n",
       "    .dataframe tbody tr th:only-of-type {\n",
       "        vertical-align: middle;\n",
       "    }\n",
       "\n",
       "    .dataframe tbody tr th {\n",
       "        vertical-align: top;\n",
       "    }\n",
       "\n",
       "    .dataframe thead th {\n",
       "        text-align: right;\n",
       "    }\n",
       "</style>\n",
       "<table border=\"1\" class=\"dataframe\">\n",
       "  <thead>\n",
       "    <tr style=\"text-align: right;\">\n",
       "      <th></th>\n",
       "      <th>key_id</th>\n",
       "      <th>word</th>\n",
       "    </tr>\n",
       "  </thead>\n",
       "  <tbody>\n",
       "    <tr>\n",
       "      <th>0</th>\n",
       "      <td>9000003627287624</td>\n",
       "      <td>radio stereo alarm_clock</td>\n",
       "    </tr>\n",
       "    <tr>\n",
       "      <th>1</th>\n",
       "      <td>9000010688666847</td>\n",
       "      <td>hockey_puck bottlecap pool</td>\n",
       "    </tr>\n",
       "    <tr>\n",
       "      <th>2</th>\n",
       "      <td>9000023642890129</td>\n",
       "      <td>The_Great_Wall_of_China castle fence</td>\n",
       "    </tr>\n",
       "    <tr>\n",
       "      <th>3</th>\n",
       "      <td>9000038588854897</td>\n",
       "      <td>mountain tent church</td>\n",
       "    </tr>\n",
       "    <tr>\n",
       "      <th>4</th>\n",
       "      <td>9000052667981386</td>\n",
       "      <td>fireplace campfire fire_hydrant</td>\n",
       "    </tr>\n",
       "  </tbody>\n",
       "</table>\n",
       "</div>"
      ],
      "text/plain": [
       "             key_id                                  word\n",
       "0  9000003627287624              radio stereo alarm_clock\n",
       "1  9000010688666847            hockey_puck bottlecap pool\n",
       "2  9000023642890129  The_Great_Wall_of_China castle fence\n",
       "3  9000038588854897                  mountain tent church\n",
       "4  9000052667981386       fireplace campfire fire_hydrant"
      ]
     },
     "execution_count": 20,
     "metadata": {},
     "output_type": "execute_result"
    },
    {
     "data": {
      "text/plain": [
       "(112199, 2)"
      ]
     },
     "execution_count": 20,
     "metadata": {},
     "output_type": "execute_result"
    }
   ],
   "source": [
    "test['word'] = top3cats['a'] + ' ' + top3cats['b'] + ' ' + top3cats['c']\n",
    "submission = test[['key_id', 'word']]\n",
    "submission.to_csv('gs_mn_submission_{}.csv'.format(int(map3 * 10**4)), index=False)\n",
    "submission.head()\n",
    "submission.shape"
   ]
  },
  {
   "cell_type": "code",
   "execution_count": 21,
   "metadata": {
    "_uuid": "b418f4c06c4e4453aa1b5ab16dde344eb8b735c5"
   },
   "outputs": [
    {
     "name": "stdout",
     "output_type": "stream",
     "text": [
      "Latest run 2018-11-22 09:47:40.510042.\n",
      "Total time 53131s\n"
     ]
    }
   ],
   "source": [
    "end = dt.datetime.now()\n",
    "print('Latest run {}.\\nTotal time {}s'.format(end, (end - start).seconds))"
   ]
  },
  {
   "cell_type": "code",
   "execution_count": null,
   "metadata": {},
   "outputs": [],
   "source": []
  }
 ],
 "metadata": {
  "kernelspec": {
   "display_name": "Python 3",
   "language": "python",
   "name": "python3"
  },
  "language_info": {
   "codemirror_mode": {
    "name": "ipython",
    "version": 3
   },
   "file_extension": ".py",
   "mimetype": "text/x-python",
   "name": "python",
   "nbconvert_exporter": "python",
   "pygments_lexer": "ipython3",
   "version": "3.6.5"
  }
 },
 "nbformat": 4,
 "nbformat_minor": 1
}
